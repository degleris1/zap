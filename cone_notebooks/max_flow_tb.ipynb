{
 "cells": [
  {
   "cell_type": "code",
   "execution_count": 9,
   "metadata": {},
   "outputs": [],
   "source": [
    "import cvxpy as cp\n",
    "import numpy as np\n",
    "import time\n",
    "import clarabel\n",
    "import torch\n",
    "from zap.admm import ADMMSolver\n",
    "from zap.conic.cone_bridge import ConeBridge\n",
    "import scipy.sparse as sp\n",
    "from experiments.conic_solve.benchmarks.max_flow_benchmark import MaxFlowBenchmarkSet\n",
    "\n",
    "from zap.conic.cone_utils import get_standard_conic_problem\n",
    "\n"
   ]
  },
  {
   "cell_type": "code",
   "execution_count": 8,
   "metadata": {},
   "outputs": [
    {
     "name": "stdout",
     "output_type": "stream",
     "text": [
      "Generated a valid network with 100 nodes using starting seed 42\n",
      "Actual Number of Edges: 932\n",
      "Total Possible Edges: 9900.0\n",
      "Graph sparsity: 0.9058585858585859\n",
      "Graph density: 0.09414141414141414\n",
      "Number of Variables: 932\n",
      "Number of Constraints: 1032\n"
     ]
    }
   ],
   "source": [
    "## Create a large problem that is valid using max flow benchmark set \n",
    "n = 100\n",
    "base_seed = 42\n",
    "max_flow_benchmark = MaxFlowBenchmarkSet(num_problems=1, n=n, base_seed=base_seed)\n",
    "\n",
    "for prob in max_flow_benchmark:\n",
    "    problem = prob\n",
    "num_variables = sum(np.prod(var.shape) for var in problem.variables())\n",
    "num_constraints = sum(constraint.size for constraint in problem.constraints)\n",
    "nnz = num_variables # This is the actual number of edges\n",
    "total_possible_edges = float(n*(n - 1))\n",
    "density = nnz/total_possible_edges\n",
    "sparsity = 1 - density\n",
    "print(f'Generated a valid network with {n} nodes using starting seed {base_seed}')\n",
    "print(f\"Actual Number of Edges: {nnz}\")\n",
    "print(f\"Total Possible Edges: {total_possible_edges}\")\n",
    "print(f\"Graph sparsity: {sparsity}\")\n",
    "print(f\"Graph density: {density}\")\n",
    "print(f\"Number of Variables: {num_variables}\")\n",
    "print(f\"Number of Constraints: {num_constraints}\")"
   ]
  },
  {
   "cell_type": "code",
   "execution_count": 7,
   "metadata": {},
   "outputs": [
    {
     "name": "stdout",
     "output_type": "stream",
     "text": [
      "===============================================================================\n",
      "                                     CVXPY                                     \n",
      "                                     v1.6.4                                    \n",
      "===============================================================================\n",
      "(CVXPY) Apr 15 11:27:06 AM: Your problem has 932 variables, 1032 constraints, and 0 parameters.\n",
      "(CVXPY) Apr 15 11:27:06 AM: It is compliant with the following grammars: DCP, DQCP\n",
      "(CVXPY) Apr 15 11:27:06 AM: (If you need to solve this problem multiple times, but with different data, consider using parameters.)\n",
      "(CVXPY) Apr 15 11:27:06 AM: CVXPY will first compile your problem; then, it will invoke a numerical solver to obtain a solution.\n",
      "(CVXPY) Apr 15 11:27:06 AM: Your problem is compiled with the CPP canonicalization backend.\n",
      "-------------------------------------------------------------------------------\n",
      "                                  Compilation                                  \n",
      "-------------------------------------------------------------------------------\n",
      "(CVXPY) Apr 15 11:27:06 AM: Compiling problem (target solver=CLARABEL).\n",
      "(CVXPY) Apr 15 11:27:06 AM: Reduction chain: Dcp2Cone -> CvxAttr2Constr -> ConeMatrixStuffing -> CLARABEL\n",
      "(CVXPY) Apr 15 11:27:06 AM: Applying reduction Dcp2Cone\n",
      "(CVXPY) Apr 15 11:27:06 AM: Applying reduction CvxAttr2Constr\n",
      "(CVXPY) Apr 15 11:27:06 AM: Applying reduction ConeMatrixStuffing\n",
      "(CVXPY) Apr 15 11:27:06 AM: Applying reduction CLARABEL\n",
      "(CVXPY) Apr 15 11:27:06 AM: Finished problem compilation (took 1.103e-02 seconds).\n",
      "-------------------------------------------------------------------------------\n",
      "                                Numerical solver                               \n",
      "-------------------------------------------------------------------------------\n",
      "(CVXPY) Apr 15 11:27:06 AM: Invoking solver CLARABEL  to obtain a solution.\n",
      "-------------------------------------------------------------\n",
      "           Clarabel.rs v0.10.0  -  Clever Acronym                \n",
      "\n",
      "                   (c) Paul Goulart                          \n",
      "                University of Oxford, 2022                   \n",
      "-------------------------------------------------------------\n",
      "\n",
      "problem:\n",
      "  variables     = 932\n",
      "  constraints   = 1032\n",
      "  nnz(P)        = 0\n",
      "  nnz(A)        = 2796\n",
      "  cones (total) = 2\n",
      "    :        Zero = 1,  numel = 100\n",
      "    : Nonnegative = 1,  numel = 932\n",
      "\n",
      "settings:\n",
      "  linear algebra: direct / qdldl, precision: 64 bit\n",
      "  max iter = 10, time limit = Inf,  max step = 0.990\n",
      "  tol_feas = 1.0e-8, tol_gap_abs = 1.0e-8, tol_gap_rel = 1.0e-8,\n",
      "  static reg : on, ϵ1 = 1.0e-8, ϵ2 = 4.9e-32\n",
      "  dynamic reg: on, ϵ = 1.0e-13, δ = 2.0e-7\n",
      "  iter refine: on, reltol = 1.0e-13, abstol = 1.0e-12,\n",
      "               max iter = 10, stop ratio = 5.0\n",
      "  equilibrate: on, min_scale = 1.0e-4, max_scale = 1.0e4\n",
      "               max iter = 10\n",
      "\n",
      "iter    pcost        dcost       gap       pres      dres      k/t        μ       step      \n",
      "---------------------------------------------------------------------------------------------\n",
      "  0  -9.1390e+03  -2.3782e+04  1.60e+00  4.17e-01  3.20e-03  1.00e+00  4.45e+02   ------   \n",
      "  1  -7.4644e+03  -2.1993e+04  1.95e+00  3.74e-01  3.17e-03  6.30e+01  2.24e+02  5.67e-01  \n",
      "  2  -5.6967e+03  -2.3682e+04  3.16e+00  4.13e-01  3.95e-03  1.88e+02  2.21e+02  1.04e-01  \n",
      "  3  +2.0508e+03  -7.9084e+03  4.86e+00  2.90e-01  3.64e-03  4.06e+02  1.62e+02  6.54e-01  \n",
      "  4  -5.9769e+02  -2.6755e+03  3.48e+00  1.27e-01  4.08e-03  8.13e+02  1.37e+02  3.28e-01  \n",
      "  5  -5.0582e+02  -1.1573e+03  1.29e+00  4.32e-02  2.45e-03  2.76e+02  9.47e+01  3.86e-01  \n",
      "  6  -1.5698e+02  -2.3651e+02  5.07e-01  5.80e-03  1.01e-03  4.32e+01  4.03e+01  7.91e-01  \n",
      "  7  -9.6362e+01  -1.0623e+02  1.02e-01  7.14e-04  1.69e-04  5.22e+00  7.05e+00  9.07e-01  \n",
      "  8  -9.0074e+01  -9.0187e+01  1.26e-03  8.47e-06  2.10e-06  6.55e-02  8.85e-02  9.88e-01  \n",
      "  9  -9.0001e+01  -9.0002e+01  1.26e-05  8.46e-08  2.10e-08  6.55e-04  8.85e-04  9.90e-01  \n",
      " 10  -9.0000e+01  -9.0000e+01  1.26e-07  8.46e-10  2.10e-10  6.55e-06  8.85e-06  9.90e-01  \n",
      "---------------------------------------------------------------------------------------------\n",
      "Terminated with status = AlmostSolved\n",
      "solve time = 4.843331ms\n",
      "-------------------------------------------------------------------------------\n",
      "                                    Summary                                    \n",
      "-------------------------------------------------------------------------------\n",
      "(CVXPY) Apr 15 11:27:06 AM: Problem status: optimal_inaccurate\n",
      "(CVXPY) Apr 15 11:27:06 AM: Optimal value: -9.000e+01\n",
      "(CVXPY) Apr 15 11:27:06 AM: Compilation took 1.103e-02 seconds\n",
      "(CVXPY) Apr 15 11:27:06 AM: Solver (including time spent in interface) took 6.852e-03 seconds\n",
      "Objective value: -90.00000738869129\n",
      "Time taken: 0.0223 seconds\n",
      "Number of iterations: 10\n",
      "Status: optimal_inaccurate\n"
     ]
    }
   ],
   "source": [
    "# Solve the problem in a standard way using CVXPY\n",
    "start_time = time.time()\n",
    "# result = problem.solve(solver=cp.SCIPY, scipy_options={'method': \"highs-ds\"}, verbose=True)\n",
    "# result = problem.solve(solver=cp.CLARABEL, verbose=True, tol_gap_abs=1e-3, tol_gap_rel=1e-3)\n",
    "result = problem.solve(solver=cp.CLARABEL, verbose=True, max_iter=10)\n",
    "end_time = time.time()\n",
    "solve_time = end_time - start_time\n",
    "obj_val = problem.value\n",
    "problem_status = problem.status\n",
    "num_iters = problem.solver_stats.num_iters\n",
    "print(f\"Objective value: {obj_val}\")\n",
    "print(f\"Time taken: {solve_time:.4f} seconds\")\n",
    "print(f\"Number of iterations: {num_iters}\")\n",
    "print(f\"Status: {problem_status}\")"
   ]
  },
  {
   "cell_type": "code",
   "execution_count": 20,
   "metadata": {},
   "outputs": [
    {
     "data": {
      "text/plain": [
       "SolverStats(solver_name='CLARABEL', solve_time=972.919782039, setup_time=None, num_iters=10, extra_stats=None)"
      ]
     },
     "execution_count": 20,
     "metadata": {},
     "output_type": "execute_result"
    }
   ],
   "source": [
    "problem.solver_stats"
   ]
  },
  {
   "cell_type": "code",
   "execution_count": 14,
   "metadata": {},
   "outputs": [],
   "source": [
    "# Get conic problem form so we can (i) solve standard conic form and (ii) solve using ZAP\n",
    "cone_params, data, cones = get_standard_conic_problem(problem, solver=cp.CLARABEL)"
   ]
  },
  {
   "cell_type": "code",
   "execution_count": 10,
   "metadata": {},
   "outputs": [
    {
     "data": {
      "text/plain": [
       "{'A': <Compressed Sparse Column sparse matrix of dtype 'float64'\n",
       " \twith 551979 stored elements and shape (193993, 183993)>,\n",
       " 'b': array([0.e+00, 0.e+00, 0.e+00, ..., 5.e+00, 5.e+00, 1.e+04]),\n",
       " 'c': array([ 0.,  0.,  0., ...,  0.,  0., -1.]),\n",
       " 'K': {'z': 10000, 'l': 183993, 'q': [], 'ep': 0, 's': []}}"
      ]
     },
     "execution_count": 10,
     "metadata": {},
     "output_type": "execute_result"
    }
   ],
   "source": [
    "cone_params"
   ]
  },
  {
   "cell_type": "code",
   "execution_count": 20,
   "metadata": {},
   "outputs": [
    {
     "name": "stdout",
     "output_type": "stream",
     "text": [
      "Time taken: 221.2601 seconds\n"
     ]
    }
   ],
   "source": [
    "start_time = time.time()\n",
    "A_cl = cone_params['A']\n",
    "b_cl = cone_params['b']\n",
    "q_cl = cone_params['c']\n",
    "P_cl = sp.csc_matrix(np.zeros((A_cl.shape[1], A_cl.shape[1])))\n",
    "cones_cl = [clarabel.ZeroConeT(cones['z']), clarabel.NonnegativeConeT(cones['l'])]\n",
    "settings = clarabel.DefaultSettings()\n",
    "settings.verbose=False\n",
    "settings.max_iter = 5000\n",
    "end_time = time.time()\n",
    "solve_time = end_time - start_time\n",
    "print(f\"Time taken: {solve_time:.4f} seconds\")\n"
   ]
  },
  {
   "cell_type": "code",
   "execution_count": 14,
   "metadata": {},
   "outputs": [
    {
     "name": "stdout",
     "output_type": "stream",
     "text": [
      "Objective value: -157.99999999370752\n",
      "Time taken: 1.2281 seconds\n",
      "Number of iterations: 12\n",
      "Status: Solved\n"
     ]
    }
   ],
   "source": [
    "# Solve the conic form using CLARABEL\n",
    "A_cl = cone_params['A']\n",
    "b_cl = cone_params['b']\n",
    "q_cl = cone_params['c']\n",
    "P_cl = sp.csc_matrix(np.zeros((A_cl.shape[1], A_cl.shape[1])))\n",
    "cones_cl = [clarabel.ZeroConeT(cones['z']), clarabel.NonnegativeConeT(cones['l'])]\n",
    "settings = clarabel.DefaultSettings()\n",
    "settings.verbose=False\n",
    "settings.max_iter = 5000\n",
    "start_time = time.time()\n",
    "solver = clarabel.DefaultSolver(P_cl,q_cl,A_cl,b_cl,cones_cl, settings)\n",
    "end_time = time.time()\n",
    "soln = solver.solve()\n",
    "solve_time = end_time - start_time\n",
    "obj_val = soln.obj_val\n",
    "problem_status = soln.status\n",
    "num_iters = soln.iterations\n",
    "print(f\"Objective value: {obj_val}\")\n",
    "print(f\"Time taken: {solve_time:.4f} seconds\")\n",
    "print(f\"Number of iterations: {num_iters}\")\n",
    "print(f\"Status: {problem_status}\")"
   ]
  },
  {
   "cell_type": "code",
   "execution_count": 15,
   "metadata": {},
   "outputs": [
    {
     "name": "stdout",
     "output_type": "stream",
     "text": [
      "Warning: moving data to GPU for device <class 'zap.conic.variable_device.VariableDevice'>\n",
      "Warning: moving data to GPU for device <class 'zap.conic.slack_device.ZeroConeSlackDevice'>\n",
      "Warning: moving data to GPU for device <class 'zap.conic.slack_device.NonNegativeConeSlackDevice'>\n",
      "Did not converge. Ran for 10000 iterations.\n",
      "Objective value: -158.00062561035156\n",
      "Time taken: 43.0372 seconds\n"
     ]
    }
   ],
   "source": [
    "# Solve the conic form using ZAP\n",
    "machine = 'cuda'\n",
    "dtype = torch.float32\n",
    "cone_bridge = ConeBridge(cone_params)\n",
    "cone_admm_devices = [d.torchify(machine=machine, dtype=dtype) for d in cone_bridge.devices]\n",
    "cone_admm = ADMMSolver(\n",
    "    machine=machine,\n",
    "    dtype=dtype,\n",
    "    atol=1e-9,\n",
    "    rtol=1e-9,\n",
    "    num_iterations=10000,\n",
    ")\n",
    "start_time = time.time()\n",
    "cone_solution_admm, cone_history_admm = cone_admm.solve(\n",
    "    net=cone_bridge.net, devices=cone_admm_devices, time_horizon=cone_bridge.time_horizon\n",
    ")\n",
    "end_time = time.time()\n",
    "solve_time = end_time - start_time\n",
    "obj_val = cone_solution_admm.objective\n",
    "print(f\"Objective value: {obj_val}\")\n",
    "print(f\"Time taken: {solve_time:.4f} seconds\")\n",
    "\n"
   ]
  },
  {
   "cell_type": "code",
   "execution_count": 21,
   "metadata": {},
   "outputs": [
    {
     "name": "stdout",
     "output_type": "stream",
     "text": [
      "Objective value: -157.99999999370155\n",
      "Time taken: 987.8816 seconds\n",
      "Number of iterations: 12\n",
      "Status: optimal\n"
     ]
    }
   ],
   "source": [
    "## Solve using CVXPY and CLARABEL from Zap formulation\n",
    "start_time = time.time()\n",
    "outcome = cone_bridge.solve(solver=cp.CLARABEL)\n",
    "end_time = time.time()\n",
    "solve_time = end_time - start_time\n",
    "obj_val = outcome.problem.value\n",
    "problem_status = outcome.problem.status\n",
    "num_iters = outcome.problem.solver_stats.num_iters\n",
    "print(f\"Objective value: {obj_val}\")\n",
    "print(f\"Time taken: {solve_time:.4f} seconds\")\n",
    "print(f\"Number of iterations: {num_iters}\")\n",
    "print(f\"Status: {problem_status}\")\n",
    "\n"
   ]
  },
  {
   "cell_type": "code",
   "execution_count": null,
   "metadata": {},
   "outputs": [],
   "source": []
  }
 ],
 "metadata": {
  "kernelspec": {
   "display_name": "zap-Uz_ucyVL-py3.11",
   "language": "python",
   "name": "python3"
  },
  "language_info": {
   "codemirror_mode": {
    "name": "ipython",
    "version": 3
   },
   "file_extension": ".py",
   "mimetype": "text/x-python",
   "name": "python",
   "nbconvert_exporter": "python",
   "pygments_lexer": "ipython3",
   "version": "3.11.10"
  }
 },
 "nbformat": 4,
 "nbformat_minor": 2
}
