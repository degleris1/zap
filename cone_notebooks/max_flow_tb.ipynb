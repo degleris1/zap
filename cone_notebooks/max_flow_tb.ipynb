{
 "cells": [
  {
   "cell_type": "code",
   "execution_count": 1,
   "metadata": {},
   "outputs": [
    {
     "name": "stderr",
     "output_type": "stream",
     "text": [
      "/home/groups/ramr/akshay81/poetry_cache/virtualenvs/zap-eFcx8M23-py3.12/lib/python3.12/site-packages/pypsa/linopf.py:1253: SyntaxWarning: invalid escape sequence '\\ '\n",
      "  n.objective_f.write(\"\\ LOPF \\n\\nmin\\nobj:\\n\")\n"
     ]
    }
   ],
   "source": [
    "import cvxpy as cp\n",
    "import numpy as np\n",
    "import time\n",
    "import clarabel\n",
    "import torch\n",
    "from zap.admm import ADMMSolver\n",
    "from zap.conic.cone_bridge import ConeBridge\n",
    "import scipy.sparse as sp\n",
    "from zap.conic.cone_utils import generate_max_flow_problem, is_valid_network, get_standard_conic_problem\n"
   ]
  },
  {
   "cell_type": "code",
   "execution_count": 3,
   "metadata": {},
   "outputs": [
    {
     "name": "stdout",
     "output_type": "stream",
     "text": [
      "Generated a valid network with 10000 nodes using seed 42\n",
      "Actual Number of Edges: 183993.0\n",
      "Total Possible Edges: 99990000.0\n",
      "Graph sparsity: 0.9981598859885988\n",
      "Graph density: 0.0018401140114011401\n",
      "Number of Variables: 183993\n",
      "Number of Constraints: 193993\n"
     ]
    }
   ],
   "source": [
    "## Create a large problem that is valid \n",
    "n = 10000\n",
    "seed = 42\n",
    "valid_source_sink_path = False\n",
    "quad_obj = False\n",
    "\n",
    "while (not valid_source_sink_path):\n",
    "    problem, adj, inc = generate_max_flow_problem(n, quad_obj=quad_obj, seed=seed)\n",
    "    valid_source_sink_path = is_valid_network(adj)\n",
    "    if (not valid_source_sink_path):\n",
    "        seed += 1\n",
    "nnz = float(adj.nnz)\n",
    "total_possible_edges = float(adj.shape[0]*(adj.shape[0] - 1))\n",
    "density = nnz/total_possible_edges\n",
    "sparsity = 1 - density\n",
    "num_variables = sum(np.prod(var.shape) for var in problem.variables())\n",
    "num_constraints = sum(constraint.size for constraint in problem.constraints)\n",
    "print(f'Generated a valid network with {n} nodes using seed {seed}')\n",
    "print(f\"Actual Number of Edges: {nnz}\")\n",
    "print(f\"Total Possible Edges: {total_possible_edges}\")\n",
    "print(f\"Graph sparsity: {sparsity}\")\n",
    "print(f\"Graph density: {density}\")\n",
    "print(f\"Number of Variables: {num_variables}\")\n",
    "print(f\"Number of Constraints: {num_constraints}\")"
   ]
  },
  {
   "cell_type": "code",
   "execution_count": 18,
   "metadata": {},
   "outputs": [
    {
     "name": "stdout",
     "output_type": "stream",
     "text": [
      "===============================================================================\n",
      "                                     CVXPY                                     \n",
      "                                     v1.5.3                                    \n",
      "===============================================================================\n",
      "(CVXPY) Apr 08 05:53:49 PM: Your problem has 183993 variables, 193993 constraints, and 0 parameters.\n",
      "(CVXPY) Apr 08 05:53:49 PM: It is compliant with the following grammars: DCP, DQCP\n",
      "(CVXPY) Apr 08 05:53:49 PM: (If you need to solve this problem multiple times, but with different data, consider using parameters.)\n",
      "(CVXPY) Apr 08 05:53:49 PM: CVXPY will first compile your problem; then, it will invoke a numerical solver to obtain a solution.\n",
      "(CVXPY) Apr 08 05:53:49 PM: Your problem is compiled with the CPP canonicalization backend.\n",
      "-------------------------------------------------------------------------------\n",
      "                                  Compilation                                  \n",
      "-------------------------------------------------------------------------------\n",
      "(CVXPY) Apr 08 05:53:49 PM: Compiling problem (target solver=CLARABEL).\n",
      "(CVXPY) Apr 08 05:53:49 PM: Reduction chain: FlipObjective -> Dcp2Cone -> CvxAttr2Constr -> ConeMatrixStuffing -> CLARABEL\n",
      "(CVXPY) Apr 08 05:53:49 PM: Applying reduction FlipObjective\n",
      "(CVXPY) Apr 08 05:53:49 PM: Applying reduction Dcp2Cone\n",
      "(CVXPY) Apr 08 05:53:49 PM: Applying reduction CvxAttr2Constr\n",
      "(CVXPY) Apr 08 05:53:49 PM: Applying reduction ConeMatrixStuffing\n",
      "(CVXPY) Apr 08 05:53:49 PM: Applying reduction CLARABEL\n",
      "(CVXPY) Apr 08 05:53:50 PM: Finished problem compilation (took 2.735e-01 seconds).\n",
      "-------------------------------------------------------------------------------\n",
      "                                Numerical solver                               \n",
      "-------------------------------------------------------------------------------\n",
      "(CVXPY) Apr 08 05:53:50 PM: Invoking solver CLARABEL  to obtain a solution.\n",
      "-------------------------------------------------------------\n",
      "           Clarabel.rs v0.9.0  -  Clever Acronym                \n",
      "\n",
      "                   (c) Paul Goulart                          \n",
      "                University of Oxford, 2022                   \n",
      "-------------------------------------------------------------\n",
      "\n",
      "problem:\n",
      "  variables     = 183993\n",
      "  constraints   = 193993\n",
      "  nnz(P)        = 0\n",
      "  nnz(A)        = 551979\n",
      "  cones (total) = 2\n",
      "    :        Zero = 1,  numel = 10000\n",
      "    : Nonnegative = 1,  numel = 183993\n",
      "\n",
      "settings:\n",
      "  linear algebra: direct / qdldl, precision: 64 bit\n",
      "  max iter = 10, time limit = Inf,  max step = 0.990\n",
      "  tol_feas = 1.0e-8, tol_gap_abs = 1.0e-8, tol_gap_rel = 1.0e-8,\n",
      "  static reg : on, ϵ1 = 1.0e-8, ϵ2 = 4.9e-32\n",
      "  dynamic reg: on, ϵ = 1.0e-13, δ = 2.0e-7\n",
      "  iter refine: on, reltol = 1.0e-13, abstol = 1.0e-12,\n",
      "               max iter = 10, stop ratio = 5.0\n",
      "  equilibrate: on, min_scale = 1.0e-4, max_scale = 1.0e4\n",
      "               max iter = 10\n",
      "\n",
      "iter    pcost        dcost       gap       pres      dres      k/t        μ       step      \n",
      "---------------------------------------------------------------------------------------------\n",
      "  0  -9.5225e+03  -9.3986e+05  9.77e+01  8.39e-01  4.16e-02  1.00e+00  2.63e+02   ------   \n",
      "  1  -5.5343e+03  -1.0562e+06  1.90e+02  8.75e-01  7.73e-02  7.04e+01  2.60e+02  2.43e-01  \n",
      "  2  +8.7217e+02  -1.9223e+05  2.21e+02  5.96e-01  4.84e-02  5.91e+01  2.59e+02  9.31e-03  \n",
      "  3  +5.5296e+03  -1.7077e+05  3.19e+01  4.85e-01  1.37e-02  8.72e+01  2.58e+02  1.95e-02  \n",
      "  4  +1.0290e+04  -1.0197e+05  1.09e+01  2.92e-01  4.84e-03  1.93e+02  2.56e+02  8.37e-02  \n",
      "  5  +7.1424e+03  -4.0623e+04  6.69e+00  1.58e-01  2.97e-03  2.89e+02  2.29e+02  2.30e-01  \n",
      "  6  +1.5511e+03  -5.6336e+03  4.63e+00  3.68e-02  1.73e-03  1.50e+02  8.55e+01  7.75e-01  \n",
      "  7  -9.3518e+01  -4.2556e+02  3.55e+00  1.91e-03  1.43e-04  7.47e+00  4.89e+00  9.53e-01  \n",
      "  8  -1.5737e+02  -1.6142e+02  2.57e-02  2.34e-05  1.73e-06  8.81e-02  6.03e-02  9.88e-01  \n",
      "  9  -1.5799e+02  -1.5803e+02  2.57e-04  2.34e-07  1.74e-08  8.83e-04  6.04e-04  9.90e-01  \n",
      " 10  -1.5800e+02  -1.5800e+02  2.57e-06  2.34e-09  1.74e-10  8.83e-06  6.04e-06  9.90e-01  \n",
      "---------------------------------------------------------------------------------------------\n",
      "Terminated with status = AlmostSolved\n",
      "solve time = 972.919782039s\n",
      "-------------------------------------------------------------------------------\n",
      "                                    Summary                                    \n",
      "-------------------------------------------------------------------------------\n",
      "(CVXPY) Apr 08 06:10:03 PM: Problem status: optimal_inaccurate\n",
      "(CVXPY) Apr 08 06:10:03 PM: Optimal value: 1.580e+02\n",
      "(CVXPY) Apr 08 06:10:03 PM: Compilation took 2.735e-01 seconds\n",
      "(CVXPY) Apr 08 06:10:03 PM: Solver (including time spent in interface) took 9.733e+02 seconds\n",
      "Objective value: 157.99993708345585\n",
      "Time taken: 973.6424 seconds\n",
      "Number of iterations: 10\n",
      "Status: optimal_inaccurate\n"
     ]
    }
   ],
   "source": [
    "# Solve the problem in a standard way using CVXPY\n",
    "start_time = time.time()\n",
    "# result = problem.solve(solver=cp.SCIPY, scipy_options={'method': \"highs-ds\"}, verbose=True)\n",
    "# result = problem.solve(solver=cp.CLARABEL, verbose=True, tol_gap_abs=1e-3, tol_gap_rel=1e-3)\n",
    "result = problem.solve(solver=cp.CLARABEL, verbose=True, max_iter=10)\n",
    "end_time = time.time()\n",
    "solve_time = end_time - start_time\n",
    "obj_val = problem.value\n",
    "problem_status = problem.status\n",
    "num_iters = problem.solver_stats.num_iters\n",
    "print(f\"Objective value: {obj_val}\")\n",
    "print(f\"Time taken: {solve_time:.4f} seconds\")\n",
    "print(f\"Number of iterations: {num_iters}\")\n",
    "print(f\"Status: {problem_status}\")"
   ]
  },
  {
   "cell_type": "code",
   "execution_count": 20,
   "metadata": {},
   "outputs": [
    {
     "data": {
      "text/plain": [
       "SolverStats(solver_name='CLARABEL', solve_time=972.919782039, setup_time=None, num_iters=10, extra_stats=None)"
      ]
     },
     "execution_count": 20,
     "metadata": {},
     "output_type": "execute_result"
    }
   ],
   "source": [
    "problem.solver_stats"
   ]
  },
  {
   "cell_type": "code",
   "execution_count": 14,
   "metadata": {},
   "outputs": [],
   "source": [
    "# Get conic problem form so we can (i) solve standard conic form and (ii) solve using ZAP\n",
    "cone_params, data, cones = get_standard_conic_problem(problem, solver=cp.CLARABEL)"
   ]
  },
  {
   "cell_type": "code",
   "execution_count": 10,
   "metadata": {},
   "outputs": [
    {
     "data": {
      "text/plain": [
       "{'A': <Compressed Sparse Column sparse matrix of dtype 'float64'\n",
       " \twith 551979 stored elements and shape (193993, 183993)>,\n",
       " 'b': array([0.e+00, 0.e+00, 0.e+00, ..., 5.e+00, 5.e+00, 1.e+04]),\n",
       " 'c': array([ 0.,  0.,  0., ...,  0.,  0., -1.]),\n",
       " 'K': {'z': 10000, 'l': 183993, 'q': [], 'ep': 0, 's': []}}"
      ]
     },
     "execution_count": 10,
     "metadata": {},
     "output_type": "execute_result"
    }
   ],
   "source": [
    "cone_params"
   ]
  },
  {
   "cell_type": "code",
   "execution_count": 20,
   "metadata": {},
   "outputs": [
    {
     "name": "stdout",
     "output_type": "stream",
     "text": [
      "Time taken: 221.2601 seconds\n"
     ]
    }
   ],
   "source": [
    "start_time = time.time()\n",
    "A_cl = cone_params['A']\n",
    "b_cl = cone_params['b']\n",
    "q_cl = cone_params['c']\n",
    "P_cl = sp.csc_matrix(np.zeros((A_cl.shape[1], A_cl.shape[1])))\n",
    "cones_cl = [clarabel.ZeroConeT(cones['z']), clarabel.NonnegativeConeT(cones['l'])]\n",
    "settings = clarabel.DefaultSettings()\n",
    "settings.verbose=False\n",
    "settings.max_iter = 5000\n",
    "end_time = time.time()\n",
    "solve_time = end_time - start_time\n",
    "print(f\"Time taken: {solve_time:.4f} seconds\")\n"
   ]
  },
  {
   "cell_type": "code",
   "execution_count": 14,
   "metadata": {},
   "outputs": [
    {
     "name": "stdout",
     "output_type": "stream",
     "text": [
      "Objective value: -157.99999999370752\n",
      "Time taken: 1.2281 seconds\n",
      "Number of iterations: 12\n",
      "Status: Solved\n"
     ]
    }
   ],
   "source": [
    "# Solve the conic form using CLARABEL\n",
    "A_cl = cone_params['A']\n",
    "b_cl = cone_params['b']\n",
    "q_cl = cone_params['c']\n",
    "P_cl = sp.csc_matrix(np.zeros((A_cl.shape[1], A_cl.shape[1])))\n",
    "cones_cl = [clarabel.ZeroConeT(cones['z']), clarabel.NonnegativeConeT(cones['l'])]\n",
    "settings = clarabel.DefaultSettings()\n",
    "settings.verbose=False\n",
    "settings.max_iter = 5000\n",
    "start_time = time.time()\n",
    "solver = clarabel.DefaultSolver(P_cl,q_cl,A_cl,b_cl,cones_cl, settings)\n",
    "end_time = time.time()\n",
    "soln = solver.solve()\n",
    "solve_time = end_time - start_time\n",
    "obj_val = soln.obj_val\n",
    "problem_status = soln.status\n",
    "num_iters = soln.iterations\n",
    "print(f\"Objective value: {obj_val}\")\n",
    "print(f\"Time taken: {solve_time:.4f} seconds\")\n",
    "print(f\"Number of iterations: {num_iters}\")\n",
    "print(f\"Status: {problem_status}\")"
   ]
  },
  {
   "cell_type": "code",
   "execution_count": 15,
   "metadata": {},
   "outputs": [
    {
     "name": "stdout",
     "output_type": "stream",
     "text": [
      "Warning: moving data to GPU for device <class 'zap.conic.variable_device.VariableDevice'>\n",
      "Warning: moving data to GPU for device <class 'zap.conic.slack_device.ZeroConeSlackDevice'>\n",
      "Warning: moving data to GPU for device <class 'zap.conic.slack_device.NonNegativeConeSlackDevice'>\n",
      "Did not converge. Ran for 10000 iterations.\n",
      "Objective value: -158.00062561035156\n",
      "Time taken: 43.0372 seconds\n"
     ]
    }
   ],
   "source": [
    "# Solve the conic form using ZAP\n",
    "machine = 'cuda'\n",
    "dtype = torch.float32\n",
    "cone_bridge = ConeBridge(cone_params)\n",
    "cone_admm_devices = [d.torchify(machine=machine, dtype=dtype) for d in cone_bridge.devices]\n",
    "cone_admm = ADMMSolver(\n",
    "    machine=machine,\n",
    "    dtype=dtype,\n",
    "    atol=1e-9,\n",
    "    rtol=1e-9,\n",
    "    num_iterations=10000,\n",
    ")\n",
    "start_time = time.time()\n",
    "cone_solution_admm, cone_history_admm = cone_admm.solve(\n",
    "    net=cone_bridge.net, devices=cone_admm_devices, time_horizon=cone_bridge.time_horizon\n",
    ")\n",
    "end_time = time.time()\n",
    "solve_time = end_time - start_time\n",
    "obj_val = cone_solution_admm.objective\n",
    "print(f\"Objective value: {obj_val}\")\n",
    "print(f\"Time taken: {solve_time:.4f} seconds\")\n",
    "\n"
   ]
  },
  {
   "cell_type": "code",
   "execution_count": 21,
   "metadata": {},
   "outputs": [
    {
     "name": "stdout",
     "output_type": "stream",
     "text": [
      "Objective value: -157.99999999370155\n",
      "Time taken: 987.8816 seconds\n",
      "Number of iterations: 12\n",
      "Status: optimal\n"
     ]
    }
   ],
   "source": [
    "## Solve using CVXPY and CLARABEL from Zap formulation\n",
    "start_time = time.time()\n",
    "outcome = cone_bridge.solve(solver=cp.CLARABEL)\n",
    "end_time = time.time()\n",
    "solve_time = end_time - start_time\n",
    "obj_val = outcome.problem.value\n",
    "problem_status = outcome.problem.status\n",
    "num_iters = outcome.problem.solver_stats.num_iters\n",
    "print(f\"Objective value: {obj_val}\")\n",
    "print(f\"Time taken: {solve_time:.4f} seconds\")\n",
    "print(f\"Number of iterations: {num_iters}\")\n",
    "print(f\"Status: {problem_status}\")\n",
    "\n"
   ]
  },
  {
   "cell_type": "code",
   "execution_count": null,
   "metadata": {},
   "outputs": [],
   "source": []
  }
 ],
 "metadata": {
  "kernelspec": {
   "display_name": "zap-Uz_ucyVL-py3.11",
   "language": "python",
   "name": "python3"
  },
  "language_info": {
   "codemirror_mode": {
    "name": "ipython",
    "version": 3
   },
   "file_extension": ".py",
   "mimetype": "text/x-python",
   "name": "python",
   "nbconvert_exporter": "python",
   "pygments_lexer": "ipython3",
   "version": "3.12.1"
  }
 },
 "nbformat": 4,
 "nbformat_minor": 2
}
