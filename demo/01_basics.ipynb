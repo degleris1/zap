{
 "cells": [
  {
   "cell_type": "code",
   "execution_count": null,
   "id": "Hbol",
   "metadata": {},
   "outputs": [],
   "source": [
    "import marimo as mo"
   ]
  },
  {
   "cell_type": "code",
   "execution_count": null,
   "id": "PKri",
   "metadata": {},
   "outputs": [],
   "source": [
    "import zap\n",
    "import numpy as np"
   ]
  },
  {
   "cell_type": "code",
   "execution_count": null,
   "id": "Vxnm",
   "metadata": {},
   "outputs": [],
   "source": [
    "import cvxpy as cp"
   ]
  },
  {
   "cell_type": "code",
   "execution_count": null,
   "id": "Pvdt",
   "metadata": {},
   "outputs": [],
   "source": [
    "import torch\n",
    "from zap.admm import ADMMSolver"
   ]
  },
  {
   "cell_type": "markdown",
   "id": "ecfG",
   "metadata": {},
   "source": [
    "### Solving with ADMM\n",
    "\n",
    "Solving with ADMM is a little more complicated and requires two steps:\n",
    "\n",
    "1. Transfering device data to PyTorch\n",
    "2. Initializing an ADMM solver object."
   ]
  },
  {
   "cell_type": "markdown",
   "id": "vblA",
   "metadata": {},
   "source": [
    "## Creating a Network\n",
    "\n",
    "Networks in Zap consist of a `Network` object, which defines the underlying network, and a list of `Device` objects, which are electrical components attached to the network. Devices include generators, loads, transmission lines, batteries, and all other components that connect to the network. Devices can also be used to model financial contracts, such as bids and offers for energy or transmission congestion contracts."
   ]
  },
  {
   "cell_type": "markdown",
   "id": "bkHC",
   "metadata": {},
   "source": [
    "### Constructing Devices"
   ]
  },
  {
   "cell_type": "markdown",
   "id": "TqIu",
   "metadata": {},
   "source": [
    "## Solving Dispatch Problems\n",
    "\n",
    "Now that we've defined an electricity dispatch problem, let's solve using two different methods.\n",
    "\n",
    "1. `cvxpy` - This method will build a model in `cvxpy` and send it to an off-the-shelf solver, such as ECOS or Clarabel. You can also use commerical solvers like Mosek. This approach is best for small to medium problems and finds highly accurate solutions.\n",
    "\n",
    "2. `admm` - This method will use a PyTorch implementation of the alternating direction method of multipliers (ADMM). This can be run on either a CPU or GPU and scales well to larger problems. In general, this method is only capable of finding medium accuracy solutions within a reasonable amount of time.\n",
    "\n",
    "### Solving with CVXPY\n",
    "\n",
    "To solve with `cvxpy`, we simply call `net.dispatch` on our devices and (optionally) specify a solver."
   ]
  },
  {
   "cell_type": "markdown",
   "id": "ulZA",
   "metadata": {},
   "source": [
    "As you can see, the result of a grid dispatch is a complicated object. We will address that in a second."
   ]
  },
  {
   "cell_type": "markdown",
   "id": "RGSE",
   "metadata": {},
   "source": [
    "All data passed to the device must be `numpy` arrays or of a similar type (e.g., a PyTorch `Tensor`).\n",
    "We can also create groups of devices at the same time.\n",
    "Let's add two generators to the network."
   ]
  },
  {
   "cell_type": "markdown",
   "id": "SFPL",
   "metadata": {},
   "source": [
    "Now, let's add a load to the network."
   ]
  },
  {
   "cell_type": "markdown",
   "id": "nWHF",
   "metadata": {},
   "source": [
    "We will also add an electrical ground device to specify which node is the reference bus."
   ]
  },
  {
   "cell_type": "markdown",
   "id": "MJUe",
   "metadata": {},
   "source": [
    "# 1 - ⚡ Zap Basics ⚡\n",
    "\n",
    "\n",
    "In this notebook, we introduce the basic types and functionality in Zap.\n",
    "We will manually construct a small electricity network, solve a dispatch problem using both CVXPY and ADMM, and analyze the results.\n",
    "\n",
    "1. Creating a Network\n",
    "2. Solving Dispatch Problems\n",
    "3. Analyzing Results"
   ]
  },
  {
   "cell_type": "markdown",
   "id": "lEQa",
   "metadata": {},
   "source": [
    "First, let's initialize a simple network with 3 nodes."
   ]
  },
  {
   "cell_type": "markdown",
   "id": "emfo",
   "metadata": {},
   "source": [
    "Since we have two generators, we specify both their parameters at the same time.\n",
    "Some of the parameters, such as costs or dynamic capacities, can also time varying, in which case the user must pass a 2d-array of data.\n",
    "The first dimension of the data specifies which device is being referred to, and the second dimension of the data specifies the time period.\n",
    "If you pass a 1d-array, Zap will automatically assume this is a static quantity that does not change over time.\n",
    "\n",
    "Finally, let's initialize a few transmission lines to connect our network."
   ]
  },
  {
   "cell_type": "markdown",
   "id": "AjVT",
   "metadata": {},
   "source": [
    "## Analyzing Results\n",
    "\n",
    "Results are packaged into a hierachically structured `DispatchOutcome` object.\n",
    "\n",
    "1. At the top level, a `DispatchOutcome` has several fields: `power`, `angle`, `prices`, and a few others. You can access these fields like any other Python field, e.g., `outcome.power`.\n",
    "2. Each field contains either *device-specific information* or *global information*. Device-specific fields will contain a list of length `len(devices)`, where the `i`th entry in the list contains information specific to the `i`th device. Global fields contain a 2d array of size `(num_nodes, time_horizon)`. You can access the information for device `i` using normal indexing, e.g., `outcome.power[i]`.\n",
    "3. For device-specific information, each block of information is further broken down by the *terminal* of the device. Many devices, such as generator, loads, and batteries, have just a single terminal and will always be indexed as `outcome.power[i][0]`. Some devices, like transmission lines, have two or more terminals. The data for terminal `j` is stored in `outcome.power[i][j]`.\n",
    "4. Finally, the data for terminal `j` of device `i` is just a 2d array of size `(num_devices, time_horizon)`, where `num_devices = devices[i].num_devices` is the number of devices in device group `i`."
   ]
  },
  {
   "cell_type": "markdown",
   "id": "qnkX",
   "metadata": {},
   "source": [
    "Before we move on, here are a couple of notes about constructing devices.\n",
    "\n",
    "- Many arguments (capital cost, emissions rates, line slacks, etc.) are optional and introduce additional functionality, e.g., for planning studies.\n",
    "- For performance reasons, it's best to specify a few device groups (ideally, one for each type of device) with many devices per group, instead of many groups with one or just a few devices per group. This is so that computations can be efficiently vectorized, both on CPU and GPU machines.\n",
    "- Remember that the first dimension (rows) of a parameter specifies which device in the group the parameter is for, and the second dimension (columns) specifies the time period. **Dynamic data is always 2-dimensional!**"
   ]
  },
  {
   "cell_type": "markdown",
   "id": "ZHCJ",
   "metadata": {},
   "source": [
    "### Putting the Network Together\n",
    "\n",
    "To finish up, we will create a list of device (groups).\n",
    "Together with the network and the time horizon, this list fully specifies an electrical network!"
   ]
  },
  {
   "cell_type": "code",
   "execution_count": null,
   "id": "Xref",
   "metadata": {},
   "outputs": [],
   "source": [
    "net = zap.PowerNetwork(num_nodes=3)"
   ]
  },
  {
   "cell_type": "code",
   "execution_count": null,
   "id": "ZBYS",
   "metadata": {},
   "outputs": [],
   "source": [
    "machine = \"cpu\"  # Pick \"cuda\" for a Nvidia GPU machine\n",
    "dtype = torch.float32"
   ]
  },
  {
   "cell_type": "code",
   "execution_count": null,
   "id": "Hstk",
   "metadata": {},
   "outputs": [],
   "source": [
    "lines = zap.ACLine(\n",
    "    num_nodes=net.num_nodes,\n",
    "    # AC lines are two-terminal devices, so we specify both a source and sink terminal for each line\n",
    "    # We will build the classic 3-bus \"triangle\" network\n",
    "    source_terminal=np.array([0, 1, 2]),\n",
    "    sink_terminal=np.array([1, 2, 0]),\n",
    "    nominal_capacity=np.array([10.0, 20.0, 30.0]),\n",
    "    # This is the per-MW susceptance, so the susceptance of each line is its nominal capacity\n",
    "    # times its susceptance\n",
    "    # We will give the lines uniform total susceptance\n",
    "    susceptance=np.array([1 / 10.0, 1 / 20.0, 1 / 30.0]),\n",
    "    # Lines can also have time-vary capacities to simulate outages or de-ratings\n",
    "    # In this example, we will just make them static\n",
    "    capacity=np.ones(3),\n",
    ")"
   ]
  },
  {
   "cell_type": "code",
   "execution_count": null,
   "id": "iLit",
   "metadata": {},
   "outputs": [],
   "source": [
    "ground = zap.Ground(num_nodes=net.num_nodes, terminal=np.array([0]))"
   ]
  },
  {
   "cell_type": "code",
   "execution_count": null,
   "id": "BYtC",
   "metadata": {},
   "outputs": [],
   "source": [
    "load = zap.Load(\n",
    "    num_nodes=net.num_nodes,\n",
    "    # The terminal of the device is the node to which it connects\n",
    "    terminal=np.array([0]),\n",
    "    # The load argument is a time series of the power consumed by the device\n",
    "    # This is 2-d array, see more below!\n",
    "    load=np.array([[10.0, 15.0, 20.0]]),\n",
    "    # This is the curtailment cost of the device, which we will assume is $500 / MWh\n",
    "    linear_cost=np.array([500.0]),\n",
    ")"
   ]
  },
  {
   "cell_type": "code",
   "execution_count": null,
   "id": "Kclp",
   "metadata": {},
   "outputs": [],
   "source": [
    "generators = zap.Generator(\n",
    "    num_nodes=net.num_nodes,\n",
    "    # Since we have two generators, we specify two terminals\n",
    "    terminal=np.array([1, 2]),\n",
    "    # Nominal capacity refers to the generator nameplate capacity\n",
    "    nominal_capacity=np.array([50.0, 25.0]),\n",
    "    # This is the marginal cost of generation\n",
    "    linear_cost=np.array([0.1, 30.0]),\n",
    "    # Emissions rates are optional, but useful for many applications\n",
    "    emission_rates=np.array([0.0, 500.0]),\n",
    "    # Dynamic capacity refers to the time-varying capacity factor of each generator\n",
    "    dynamic_capacity=np.array(\n",
    "        [\n",
    "            [0.1, 0.5, 0.1],\n",
    "            [1.0, 1.0, 1.0],\n",
    "        ]\n",
    "    ),\n",
    ")"
   ]
  },
  {
   "cell_type": "code",
   "execution_count": null,
   "id": "ROlb",
   "metadata": {},
   "outputs": [],
   "source": [
    "devices = [load, generators, lines, ground]\n",
    "time_horizon = 3\n",
    "\n",
    "net, devices, time_horizon  # Fully network specification"
   ]
  },
  {
   "cell_type": "code",
   "execution_count": null,
   "id": "aLJB",
   "metadata": {},
   "outputs": [],
   "source": [
    "admm_devices = [d.torchify(machine=machine, dtype=dtype) for d in devices]"
   ]
  },
  {
   "cell_type": "code",
   "execution_count": null,
   "id": "DnEU",
   "metadata": {},
   "outputs": [],
   "source": [
    "outcome = net.dispatch(devices, time_horizon, solver=cp.CLARABEL, add_ground=False)\n",
    "\n",
    "outcome"
   ]
  },
  {
   "cell_type": "code",
   "execution_count": null,
   "id": "nHfw",
   "metadata": {},
   "outputs": [],
   "source": [
    "admm = ADMMSolver(\n",
    "    machine=machine,\n",
    "    dtype=dtype,\n",
    "    num_iterations=10000,\n",
    "    rho_power=1.0,\n",
    "    rho_angle=1.0,\n",
    "    atol=1e-6,\n",
    "    rtol=1e-6,\n",
    "    adaptive_rho=True,\n",
    "    adaptation_frequency=50,\n",
    ")\n",
    "\n",
    "solution_admm, history_admm = admm.solve(net, admm_devices, time_horizon)"
   ]
  },
  {
   "cell_type": "code",
   "execution_count": null,
   "id": "NCOB",
   "metadata": {},
   "outputs": [],
   "source": [
    "outcome.power  # Device-specific"
   ]
  },
  {
   "cell_type": "code",
   "execution_count": null,
   "id": "TXez",
   "metadata": {},
   "outputs": [],
   "source": [
    "# Indexing the first (and only) terminal of the generators\n",
    "outcome.power[1][0]"
   ]
  },
  {
   "cell_type": "code",
   "execution_count": null,
   "id": "pHFh",
   "metadata": {},
   "outputs": [],
   "source": [
    "outcome.prices  # Global"
   ]
  },
  {
   "cell_type": "code",
   "execution_count": null,
   "id": "aqbW",
   "metadata": {},
   "outputs": [],
   "source": [
    "outcome.power[2]  # Power flows for device 2, which we made the transmission lines"
   ]
  },
  {
   "cell_type": "code",
   "execution_count": null,
   "id": "TRpd",
   "metadata": {},
   "outputs": [],
   "source": [
    "# Indexing the second terminal of the lines---the result is an object of size (num_ac_lines, time_horizon)\n",
    "outcome.power[2][1]"
   ]
  },
  {
   "cell_type": "code",
   "execution_count": null,
   "id": "dNNg",
   "metadata": {},
   "outputs": [],
   "source": [
    "# Power output of generator 0 at timestep 2\n",
    "outcome.power[1][0][0, 2]"
   ]
  },
  {
   "cell_type": "code",
   "execution_count": null,
   "id": "xXTn",
   "metadata": {},
   "outputs": [],
   "source": [
    "# ADMM solutions need to be cast to a standard DispatchOutcome\n",
    "outcome_admm = solution_admm.as_outcome()\n",
    "\n",
    "outcome_admm"
   ]
  }
 ],
 "metadata": {},
 "nbformat": 4,
 "nbformat_minor": 5
}
