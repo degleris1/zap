{
 "cells": [
  {
   "cell_type": "code",
   "execution_count": 1,
   "metadata": {},
   "outputs": [
    {
     "name": "stderr",
     "output_type": "stream",
     "text": [
      "/home/groups/ramr/akshay81/poetry_cache/virtualenvs/zap-eFcx8M23-py3.12/lib/python3.12/site-packages/pypsa/linopf.py:1253: SyntaxWarning: invalid escape sequence '\\ '\n",
      "  n.objective_f.write(\"\\ LOPF \\n\\nmin\\nobj:\\n\")\n"
     ]
    }
   ],
   "source": [
    "import cvxpy as cp\n",
    "import numpy as np\n",
    "import time\n",
    "import clarabel\n",
    "import torch\n",
    "from zap.admm import ADMMSolver\n",
    "from zap.conic.cone_bridge import ConeBridge\n",
    "import scipy.sparse as sp\n",
    "from zap.conic.cone_utils import generate_max_flow_problem, is_valid_network, get_standard_conic_problem\n"
   ]
  },
  {
   "cell_type": "code",
   "execution_count": 11,
   "metadata": {},
   "outputs": [
    {
     "name": "stdout",
     "output_type": "stream",
     "text": [
      "Generated a valid network with 10000 nodes using seed 42\n",
      "Actual Number of Edges: 183993.0\n",
      "Total Possible Edges: 99990000.0\n",
      "Graph sparsity: 0.9981598859885988\n",
      "Graph density: 0.0018401140114011401\n",
      "Number of Variables: 183993\n",
      "Number of Constraints: 193993\n"
     ]
    }
   ],
   "source": [
    "## Create a large problem that is valid \n",
    "n = 10000\n",
    "seed = 42\n",
    "valid_source_sink_path = False\n",
    "\n",
    "while (not valid_source_sink_path):\n",
    "    problem, adj, inc = generate_max_flow_problem(n, seed)\n",
    "    valid_source_sink_path = is_valid_network(adj)\n",
    "    if (not valid_source_sink_path):\n",
    "        seed += 1\n",
    "nnz = float(adj.nnz)\n",
    "total_possible_edges = float(adj.shape[0]*(adj.shape[0] - 1))\n",
    "density = nnz/total_possible_edges\n",
    "sparsity = 1 - density\n",
    "num_variables = sum(np.prod(var.shape) for var in problem.variables())\n",
    "num_constraints = sum(constraint.size for constraint in problem.constraints)\n",
    "print(f'Generated a valid network with {n} nodes using seed {seed}')\n",
    "print(f\"Actual Number of Edges: {nnz}\")\n",
    "print(f\"Total Possible Edges: {total_possible_edges}\")\n",
    "print(f\"Graph sparsity: {sparsity}\")\n",
    "print(f\"Graph density: {density}\")\n",
    "print(f\"Number of Variables: {num_variables}\")\n",
    "print(f\"Number of Constraints: {num_constraints}\")"
   ]
  },
  {
   "cell_type": "code",
   "execution_count": 19,
   "metadata": {},
   "outputs": [
    {
     "name": "stdout",
     "output_type": "stream",
     "text": [
      "Objective value: 157.99999999370752\n",
      "Time taken: 1008.6556 seconds\n",
      "Number of iterations: 12\n",
      "Status: optimal\n"
     ]
    }
   ],
   "source": [
    "# Solve the problem in a standard way using CVXPY\n",
    "start_time = time.time()\n",
    "result = problem.solve(solver=cp.CLARABEL)\n",
    "end_time = time.time()\n",
    "solve_time = end_time - start_time\n",
    "obj_val = problem.value\n",
    "problem_status = problem.status\n",
    "num_iters = problem.solver_stats.num_iters\n",
    "print(f\"Objective value: {obj_val}\")\n",
    "print(f\"Time taken: {solve_time:.4f} seconds\")\n",
    "print(f\"Number of iterations: {num_iters}\")\n",
    "print(f\"Status: {problem_status}\")"
   ]
  },
  {
   "cell_type": "code",
   "execution_count": 12,
   "metadata": {},
   "outputs": [],
   "source": [
    "# Get conic problem form so we can (i) solve standard conic form and (ii) solve using ZAP\n",
    "cone_params, data, cones = get_standard_conic_problem(problem, solver=cp.CLARABEL)"
   ]
  },
  {
   "cell_type": "code",
   "execution_count": 20,
   "metadata": {},
   "outputs": [
    {
     "name": "stdout",
     "output_type": "stream",
     "text": [
      "Time taken: 221.2601 seconds\n"
     ]
    }
   ],
   "source": [
    "start_time = time.time()\n",
    "A_cl = cone_params['A']\n",
    "b_cl = cone_params['b']\n",
    "q_cl = cone_params['c']\n",
    "P_cl = sp.csc_matrix(np.zeros((A_cl.shape[1], A_cl.shape[1])))\n",
    "cones_cl = [clarabel.ZeroConeT(cones['z']), clarabel.NonnegativeConeT(cones['l'])]\n",
    "settings = clarabel.DefaultSettings()\n",
    "settings.verbose=False\n",
    "settings.max_iter = 5000\n",
    "end_time = time.time()\n",
    "solve_time = end_time - start_time\n",
    "print(f\"Time taken: {solve_time:.4f} seconds\")\n"
   ]
  },
  {
   "cell_type": "code",
   "execution_count": 14,
   "metadata": {},
   "outputs": [
    {
     "name": "stdout",
     "output_type": "stream",
     "text": [
      "Objective value: -157.99999999370752\n",
      "Time taken: 1.2281 seconds\n",
      "Number of iterations: 12\n",
      "Status: Solved\n"
     ]
    }
   ],
   "source": [
    "# Solve the conic form using CLARABEL\n",
    "A_cl = cone_params['A']\n",
    "b_cl = cone_params['b']\n",
    "q_cl = cone_params['c']\n",
    "P_cl = sp.csc_matrix(np.zeros((A_cl.shape[1], A_cl.shape[1])))\n",
    "cones_cl = [clarabel.ZeroConeT(cones['z']), clarabel.NonnegativeConeT(cones['l'])]\n",
    "settings = clarabel.DefaultSettings()\n",
    "settings.verbose=False\n",
    "settings.max_iter = 5000\n",
    "start_time = time.time()\n",
    "solver = clarabel.DefaultSolver(P_cl,q_cl,A_cl,b_cl,cones_cl, settings)\n",
    "end_time = time.time()\n",
    "soln = solver.solve()\n",
    "solve_time = end_time - start_time\n",
    "obj_val = soln.obj_val\n",
    "problem_status = soln.status\n",
    "num_iters = soln.iterations\n",
    "print(f\"Objective value: {obj_val}\")\n",
    "print(f\"Time taken: {solve_time:.4f} seconds\")\n",
    "print(f\"Number of iterations: {num_iters}\")\n",
    "print(f\"Status: {problem_status}\")"
   ]
  },
  {
   "cell_type": "code",
   "execution_count": 18,
   "metadata": {},
   "outputs": [
    {
     "name": "stdout",
     "output_type": "stream",
     "text": [
      "Warning: moving data to GPU for device <class 'zap.conic.variable_device.VariableDevice'>\n",
      "Warning: moving data to GPU for device <class 'zap.conic.slack_device.ZeroConeSlackDevice'>\n",
      "Warning: moving data to GPU for device <class 'zap.conic.slack_device.NonNegativeConeSlackDevice'>\n",
      "ADMM converged in 7637 iterations.\n",
      "Objective value: -157.99668884277344\n",
      "Time taken: 32.2504 seconds\n"
     ]
    }
   ],
   "source": [
    "# Solve the conic form using ZAP\n",
    "machine = 'cuda'\n",
    "dtype = torch.float32\n",
    "cone_bridge = ConeBridge(cone_params)\n",
    "cone_admm_devices = [d.torchify(machine=machine, dtype=dtype) for d in cone_bridge.devices]\n",
    "cone_admm = ADMMSolver(\n",
    "    machine=machine,\n",
    "    dtype=dtype,\n",
    "    atol=1e-6,\n",
    "    rtol=1e-6,\n",
    "    num_iterations=10000,\n",
    ")\n",
    "start_time = time.time()\n",
    "cone_solution_admm, cone_history_admm = cone_admm.solve(\n",
    "    net=cone_bridge.net, devices=cone_admm_devices, time_horizon=cone_bridge.time_horizon\n",
    ")\n",
    "end_time = time.time()\n",
    "solve_time = end_time - start_time\n",
    "obj_val = cone_solution_admm.objective\n",
    "print(f\"Objective value: {obj_val}\")\n",
    "print(f\"Time taken: {solve_time:.4f} seconds\")\n",
    "\n"
   ]
  },
  {
   "cell_type": "code",
   "execution_count": 21,
   "metadata": {},
   "outputs": [
    {
     "name": "stdout",
     "output_type": "stream",
     "text": [
      "Objective value: -157.99999999370155\n",
      "Time taken: 987.8816 seconds\n",
      "Number of iterations: 12\n",
      "Status: optimal\n"
     ]
    }
   ],
   "source": [
    "## Solve using CVXPY and CLARABEL from Zap formulation\n",
    "start_time = time.time()\n",
    "outcome = cone_bridge.solve(solver=cp.CLARABEL)\n",
    "end_time = time.time()\n",
    "solve_time = end_time - start_time\n",
    "obj_val = outcome.problem.value\n",
    "problem_status = outcome.problem.status\n",
    "num_iters = outcome.problem.solver_stats.num_iters\n",
    "print(f\"Objective value: {obj_val}\")\n",
    "print(f\"Time taken: {solve_time:.4f} seconds\")\n",
    "print(f\"Number of iterations: {num_iters}\")\n",
    "print(f\"Status: {problem_status}\")\n",
    "\n"
   ]
  },
  {
   "cell_type": "code",
   "execution_count": null,
   "metadata": {},
   "outputs": [],
   "source": []
  }
 ],
 "metadata": {
  "kernelspec": {
   "display_name": "zap-Uz_ucyVL-py3.11",
   "language": "python",
   "name": "python3"
  },
  "language_info": {
   "codemirror_mode": {
    "name": "ipython",
    "version": 3
   },
   "file_extension": ".py",
   "mimetype": "text/x-python",
   "name": "python",
   "nbconvert_exporter": "python",
   "pygments_lexer": "ipython3",
   "version": "3.12.1"
  }
 },
 "nbformat": 4,
 "nbformat_minor": 2
}
