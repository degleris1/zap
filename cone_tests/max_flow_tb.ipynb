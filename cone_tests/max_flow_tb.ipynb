{
 "cells": [
  {
   "cell_type": "code",
   "execution_count": 62,
   "metadata": {},
   "outputs": [],
   "source": [
    "import cvxpy as cp\n",
    "import time\n",
    "import clarabel\n",
    "import torch\n",
    "from zap.admm import ADMMSolver\n",
    "from zap.conic.cone_bridge import ConeBridge\n",
    "import scipy.sparse as sp\n",
    "from zap.conic.cone_utils import generate_max_flow_problem, is_valid_network\n"
   ]
  },
  {
   "cell_type": "code",
   "execution_count": 63,
   "metadata": {},
   "outputs": [
    {
     "name": "stdout",
     "output_type": "stream",
     "text": [
      "Generated a valid network with 1000 nodes using seed 42\n",
      "Actual Number of Edges: 13786.0\n",
      "Total Possible Edges: 999000.0\n",
      "Graph sparsity: 0.9862002002002002\n",
      "Graph density: 0.013799799799799799\n",
      "Number of Variables: 13786\n",
      "Number of Constraints: 14786\n"
     ]
    }
   ],
   "source": [
    "## Create a large problem that is valid \n",
    "n = 1000\n",
    "seed = 42\n",
    "valid_source_sink_path = False\n",
    "\n",
    "while (not valid_source_sink_path):\n",
    "    problem, adj, inc = generate_max_flow_problem(n, seed)\n",
    "    valid_source_sink_path = is_valid_network(adj)\n",
    "    if (not valid_source_sink_path):\n",
    "        seed += 1\n",
    "nnz = float(adj.nnz)\n",
    "total_possible_edges = float(adj.shape[0]*(adj.shape[0] - 1))\n",
    "density = nnz/total_possible_edges\n",
    "sparsity = 1 - density\n",
    "num_variables = sum(np.prod(var.shape) for var in problem.variables())\n",
    "num_constraints = sum(constraint.size for constraint in problem.constraints)\n",
    "print(f'Generated a valid network with {n} nodes using seed {seed}')\n",
    "print(f\"Actual Number of Edges: {nnz}\")\n",
    "print(f\"Total Possible Edges: {total_possible_edges}\")\n",
    "print(f\"Graph sparsity: {sparsity}\")\n",
    "print(f\"Graph density: {density}\")\n",
    "print(f\"Number of Variables: {num_variables}\")\n",
    "print(f\"Number of Constraints: {num_constraints}\")"
   ]
  },
  {
   "cell_type": "code",
   "execution_count": 24,
   "metadata": {},
   "outputs": [
    {
     "name": "stdout",
     "output_type": "stream",
     "text": [
      "Objective value: 117.00000004121136\n",
      "Time taken: 0.3505 seconds\n",
      "Number of iterations: 9\n",
      "Status: optimal\n"
     ]
    }
   ],
   "source": [
    "# Solve the problem in a standard way using CVXPY\n",
    "start_time = time.time()\n",
    "result = problem.solve(solver=cp.CLARABEL)\n",
    "end_time = time.time()\n",
    "solve_time = end_time - start_time\n",
    "obj_val = problem.value\n",
    "problem_status = problem.status\n",
    "num_iters = problem.solver_stats.num_iters\n",
    "print(f\"Objective value: {obj_val}\")\n",
    "print(f\"Time taken: {solve_time:.4f} seconds\")\n",
    "print(f\"Number of iterations: {num_iters}\")\n",
    "print(f\"Status: {problem_status}\")"
   ]
  },
  {
   "cell_type": "code",
   "execution_count": 35,
   "metadata": {},
   "outputs": [],
   "source": [
    "# Get conic problem form so we can (i) solve standard conic form and (ii) solve using ZAP\n",
    "cone_params, data, cones = get_standard_conic_problem(problem, solver=cp.CLARABEL)"
   ]
  },
  {
   "cell_type": "code",
   "execution_count": null,
   "metadata": {},
   "outputs": [
    {
     "name": "stdout",
     "output_type": "stream",
     "text": [
      "Objective value: -117.00000004121136\n",
      "Time taken: 0.0132 seconds\n",
      "Number of iterations: 9\n",
      "Status: Solved\n"
     ]
    }
   ],
   "source": [
    "# Solve the conic form using CLARABEL\n",
    "A_cl = cone_params['A']\n",
    "b_cl = cone_params['b']\n",
    "q_cl = cone_params['c']\n",
    "P_cl = sp.csc_matrix(np.zeros((A_cl.shape[1], A_cl.shape[1])))\n",
    "cones_cl = [clarabel.ZeroConeT(cones['z']), clarabel.NonnegativeConeT(cones['l'])]\n",
    "settings = clarabel.DefaultSettings()\n",
    "settings.verbose=False\n",
    "settings.max_iter = 5000\n",
    "start_time = time.time()\n",
    "solver = clarabel.DefaultSolver(P_cl,q_cl,A_cl,b_cl,cones_cl, settings)\n",
    "end_time = time.time()\n",
    "soln = solver.solve()\n",
    "solve_time = end_time - start_time\n",
    "obj_val = soln.obj_val\n",
    "problem_status = soln.status\n",
    "num_iters = soln.iterations\n",
    "print(f\"Objective value: {obj_val}\")\n",
    "print(f\"Time taken: {solve_time:.4f} seconds\")\n",
    "print(f\"Number of iterations: {num_iters}\")\n",
    "print(f\"Status: {problem_status}\")"
   ]
  },
  {
   "cell_type": "code",
   "execution_count": 59,
   "metadata": {},
   "outputs": [
    {
     "name": "stdout",
     "output_type": "stream",
     "text": [
      "ADMM converged in 1479 iterations.\n",
      "Objective value: -118.25161743164062\n",
      "Time taken: 1.0617 seconds\n"
     ]
    }
   ],
   "source": [
    "# Solve the conic form using ZAP\n",
    "machine = 'cpu'\n",
    "dtype = torch.float32\n",
    "cone_bridge = ConeBridge(cone_params)\n",
    "cone_admm_devices = [d.torchify(machine=machine, dtype=dtype) for d in cone_bridge.devices]\n",
    "cone_admm = ADMMSolver(\n",
    "    machine=machine,\n",
    "    dtype=dtype,\n",
    "    atol=1e-3,\n",
    "    rtol=1e-3,\n",
    "    num_iterations=3000,\n",
    ")\n",
    "start_time = time.time()\n",
    "cone_solution_admm, cone_history_admm = cone_admm.solve(\n",
    "    net=cone_bridge.net, devices=cone_admm_devices, time_horizon=cone_bridge.time_horizon\n",
    ")\n",
    "end_time = time.time()\n",
    "solve_time = end_time - start_time\n",
    "obj_val = cone_solution_admm.objective\n",
    "print(f\"Objective value: {obj_val}\")\n",
    "print(f\"Time taken: {solve_time:.4f} seconds\")\n",
    "\n"
   ]
  }
 ],
 "metadata": {
  "kernelspec": {
   "display_name": "zap-Uz_ucyVL-py3.11",
   "language": "python",
   "name": "python3"
  },
  "language_info": {
   "codemirror_mode": {
    "name": "ipython",
    "version": 3
   },
   "file_extension": ".py",
   "mimetype": "text/x-python",
   "name": "python",
   "nbconvert_exporter": "python",
   "pygments_lexer": "ipython3",
   "version": "3.11.10"
  }
 },
 "nbformat": 4,
 "nbformat_minor": 2
}
